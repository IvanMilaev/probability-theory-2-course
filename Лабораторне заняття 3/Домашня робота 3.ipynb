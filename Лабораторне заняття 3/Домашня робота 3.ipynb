{
 "cells": [
  {
   "cell_type": "markdown",
   "metadata": {},
   "source": [
    "# Домашня робота №3\n",
    "Будемо використовувати *Збірник задач з теорії ймовірностей та математичної статистики: навч. посібник / В.В. Голомозий, М.В. Карташов, К.В. Ральченко. – К.: Видавничо-поліграфічний центр «Київський університет», 2015. – 366 с.*\n",
    "Електронну версію збірника можна знайти [тут](http://probability.univ.kiev.ua/userfiles/kmv/gkr-problems.pdf)."
   ]
  },
  {
   "cell_type": "code",
   "execution_count": 20,
   "metadata": {},
   "outputs": [],
   "source": [
    "import numpy as np\n",
    "from itertools import product\n",
    "from itertools import combinations_with_replacement\n",
    "from itertools import combinations\n",
    "from collections import Counter\n"
   ]
  },
  {
   "cell_type": "markdown",
   "metadata": {},
   "source": [
    "## 1 Задача 1.3.12\n",
    "Знайти ймовiрнiсть того, що серед трьох цифр, кожна з яких вибрана навмання, буде лише 1, 2, 3 рiзних.\n",
    "\n",
    "Обчисліть теоретичну (повним перебором) та еміричну (симулюванням $100000$ експериментів) імовірності."
   ]
  },
  {
   "cell_type": "code",
   "execution_count": 23,
   "metadata": {
    "collapsed": true
   },
   "outputs": [
    {
     "name": "stdout",
     "output_type": "stream",
     "text": [
      "Theoretical 1 diff number P =  0.01\n",
      "Empirical 1 diff number P =  0.0082\n",
      "Theoretical 2 diff number P =  0.27\n",
      "Empirical 2 diff number P =  0.2739\n",
      "Theoretical 3 diff number P =  0.72\n",
      "Empirical 3 diff number P =  0.7277\n"
     ]
    }
   ],
   "source": [
    "# Місце для Вашого коду\n",
    "\n",
    "def theoretical(different_number):\n",
    "    all_events = [p for p in product(range(10), repeat=3)] # усі можливі випадки\n",
    "    target_events = [p for p in all_events if different_number == len(Counter(p).keys())] #тільки ті, що задовільняють умову\n",
    "    return len(target_events)/len(all_events)\n",
    "\n",
    "def empirical(different_number, count_simulations):\n",
    "    all_events = []\n",
    "    for _ in range(count_simulations):\n",
    "        all_events.append(tuple(np.random.choice(range(10),3)))\n",
    "        \n",
    "    target_events = [p for p in all_events if different_number == len(Counter(p).keys())]\n",
    "    return len(target_events)/len(all_events)\n",
    "    \n",
    "print(\"Theoretical 1 diff number P = \",theoretical(1))\n",
    "print(\"Empirical 1 diff number P = \",empirical(1, 10000))\n",
    "\n",
    "print(\"Theoretical 2 diff number P = \",theoretical(2))\n",
    "print(\"Empirical 2 diff number P = \",empirical(2, 10000))\n",
    "\n",
    "print(\"Theoretical 3 diff number P = \",theoretical(3))\n",
    "print(\"Empirical 3 diff number P = \",empirical(3, 10000))"
   ]
  },
  {
   "cell_type": "markdown",
   "metadata": {},
   "source": [
    "# 2 Задача 1.3.14\n",
    "З послiдовностi чисел $1, 2, . . . , n$ вибирають навмання $k$ рiзних чисел.\n",
    "Яка ймовiрнiсть того, що:\n",
    "1. кожне з вибраних чисел кратне даному числу $p$;\n",
    "2. кожне з вибраних чисел кратне хоча б одному з двох взаємно простих чисел $p$ i $q$;\n",
    "3. серед вибраних чисел є хоча б одне кратне $p$?\n",
    "\n",
    "Напишіть  відповідні функції для обрахунку теоретичної (повним перебором) та еміричної (симулюванням $100000$ експериментів) імовірностей в залежності від параметрів $n, k, p, q$.\n",
    "Виведіть результат для\n",
    "- $n = 25, k = 5, p = 3, q = 4$;\n",
    "- $n = 25, k = 10, p = 3, q = 4$."
   ]
  },
  {
   "cell_type": "code",
   "execution_count": 10,
   "metadata": {
    "collapsed": true
   },
   "outputs": [
    {
     "name": "stdout",
     "output_type": "stream",
     "text": [
      "0.006669192876089428\n",
      "0.0367816091954023\n",
      "0.8286472148541114\n",
      "\n",
      "\n",
      "0.00583\n",
      "0.03867\n",
      "0.89275\n",
      "\n",
      "\n"
     ]
    }
   ],
   "source": [
    "# Місце для Вашого коду\n",
    "\n",
    "def isAllDivisible(numbers: tuple, p, q=None):\n",
    "    for num in numbers:\n",
    "        if q is None:\n",
    "            if num % p != 0:\n",
    "                return False\n",
    "        else:\n",
    "            if num % p != 0 and num % q != 0:\n",
    "                return False\n",
    "    return True\n",
    "\n",
    "def isOneDivisible(numbers: tuple, p, q=None):\n",
    "    for num in numbers:\n",
    "        if num % p == 0:\n",
    "            return True\n",
    "    return False\n",
    "\n",
    "def theoretical(n,k,p,q):\n",
    "    all_events = list(combinations_with_replacement(range(1, n + 1), k))\n",
    "    target_events_1 = [nums for nums in all_events if isAllDivisible(nums,p)]\n",
    "    target_events_2 = [nums for nums in all_events if isAllDivisible(nums,p,q)]\n",
    "    target_events_3 = [nums for nums in all_events if isOneDivisible(nums,p)]\n",
    "    print(len(target_events_1)/len(all_events))\n",
    "    print(len(target_events_2)/len(all_events))\n",
    "    print(len(target_events_3)/len(all_events))\n",
    "    print('\\n')\n",
    "\n",
    "def empirical(n,k,p,q):\n",
    "    all_events = [tuple(np.random.choice(range(n),k)) for _ in range(100000)]\n",
    "    target_events_1 = [nums for nums in all_events if isAllDivisible(nums,p)]\n",
    "    target_events_2 = [nums for nums in all_events if isAllDivisible(nums,p,q)]\n",
    "    target_events_3 = [nums for nums in all_events if isOneDivisible(nums,p)]\n",
    "    print(len(target_events_1)/len(all_events))\n",
    "    print(len(target_events_2)/len(all_events))\n",
    "    print(len(target_events_3)/len(all_events))\n",
    "    print('\\n')\n",
    "\n",
    "\n",
    "theoretical(25,5,3,4)\n",
    "#theoretical(25,10,3,4)\n",
    "empirical(25,5,3,4)\n",
    "#empirical(25,10,3,4)"
   ]
  },
  {
   "cell_type": "markdown",
   "metadata": {},
   "source": [
    "# 3 Задача 1.4.6\n",
    "В коморi знаходяться $n$ пар черевикiв.\n",
    "З них випадковим чином вибираються $2k$ черевикiв.\n",
    "Яка ймовiрнiсть того, що серед вибраних черевикiв:\n",
    "1. вiдсутнi парнi;\n",
    "2. є рiвно одна комплектна пара;\n",
    "3. є двi комплектнi пари?\n",
    "\n",
    "Напишіть  відповідні функції для обрахунку теоретичної (повним перебором) та еміричної (симулюванням $100000$ експериментів) імовірностей в залежності від параметрів $n, k$.\n",
    "Виведіть результат для\n",
    "- $n = 8, k = 4$;\n",
    "- $n = 13, k = 5$."
   ]
  },
  {
   "cell_type": "code",
   "execution_count": 44,
   "metadata": {
    "collapsed": true
   },
   "outputs": [
    {
     "name": "stdout",
     "output_type": "stream",
     "text": [
      "0.01989121989121989\n",
      "0.2784770784770785\n",
      "0.5221445221445221\n",
      "\n",
      "\n",
      "0.05513528065688518\n",
      "0.31013595369497915\n",
      "0.4341903351729708\n",
      "\n",
      "\n"
     ]
    }
   ],
   "source": [
    "# Місце для Вашого коду\n",
    "# (1,'l') (1,'r') (2,'l') (2,'r') ... (n,'l') (n, r') - кортежі, які відповідають конкретному номеру пари та чи лівий чи правий черевик\n",
    "\n",
    "\n",
    "def howManyPairs(variant):\n",
    "    pairs = Counter([b[0] for b in variant]).values()\n",
    "    if 2 in pairs:\n",
    "        return Counter(pairs)[2]\n",
    "    return 0\n",
    "    \n",
    "def theoretical(n, k):\n",
    "    all_boots = [p for p in product(range(n),('l','r'), repeat=1)]\n",
    "    all_events = list(combinations(all_boots, 2*k))\n",
    "    target_events_1 = [p for p in all_events if howManyPairs(p) == 0]\n",
    "    target_events_2 = [p for p in all_events if howManyPairs(p) == 1]\n",
    "    target_events_3 = [p for p in all_events if howManyPairs(p) == 2]\n",
    "    print(len(target_events_1)/len(all_events))\n",
    "    print(len(target_events_2)/len(all_events))\n",
    "    print(len(target_events_3)/len(all_events))\n",
    "    print('\\n')\n",
    "    \n",
    "theoretical(8,4)\n",
    "theoretical(13,5)\n"
   ]
  },
  {
   "cell_type": "code",
   "execution_count": 76,
   "metadata": {},
   "outputs": [
    {
     "name": "stdout",
     "output_type": "stream",
     "text": [
      "0.13788\n",
      "0.34721\n",
      "0.33898\n",
      "\n",
      "\n"
     ]
    }
   ],
   "source": [
    "def emperical(n, k):\n",
    "    all_boots = [p for p in product(range(n),('l','r'), repeat=1)]\n",
    "    count_pairs = len(all_boots)\n",
    "    all_events = []\n",
    "    for _ in range(100000):\n",
    "        randomboots = np.random.choice(count_pairs, size=2*k)\n",
    "        all_events.append(tuple([all_boots[p] for p in randomboots])) \n",
    "    target_events_1 = [p for p in all_events if howManyPairs(p) == 0]\n",
    "    target_events_2 = [p for p in all_events if howManyPairs(p) == 1]\n",
    "    target_events_3 = [p for p in all_events if howManyPairs(p) == 2]\n",
    "    print(len(target_events_1)/len(all_events))\n",
    "    print(len(target_events_2)/len(all_events))\n",
    "    print(len(target_events_3)/len(all_events))\n",
    "    print('\\n')\n",
    "\n",
    "emperical(8,4)\n",
    "#emperical(13,5)"
   ]
  },
  {
   "cell_type": "markdown",
   "metadata": {},
   "source": [
    "# 4 Задача 1.2.15\n",
    "Нехай $\\Omega = {1, 2, \\ldots, 2n}$.\n",
    "Всiм числам приписанi ймовiрностi, пропорцiйнi логарифмам цих чисел.\n",
    "Знайти цi ймовiрностi.\n",
    "Знайти ймовiрнiсть того, що в результатi експерименту з’явиться:\n",
    "1. парне число;\n",
    "2. непарне число.\n",
    "\n",
    "Напишіть функцію для обрахунку еміричної (симулюванням $100000$ експериментів) імовірності в залежності від параметра $n$.\n",
    "Виведіть результат для\n",
    "- $n = 10$;\n",
    "- $n = 25$."
   ]
  },
  {
   "cell_type": "code",
   "execution_count": 101,
   "metadata": {
    "collapsed": true
   },
   "outputs": [
    {
     "name": "stdout",
     "output_type": "stream",
     "text": [
      "Probabilities:  [0.0, 0.01637267243297415, 0.025950071842855048, 0.0327453448659483, 0.038016168110510506, 0.042322744275829195, 0.04596390254194683, 0.04911801729892245, 0.051900143685710096, 0.05438884054348466, 0.05664014069622203, 0.05869541670880335, 0.0605860873630913, 0.062336574974920976, 0.06396623995336556, 0.0654906897318966, 0.06692269018174564, 0.06827281611868424, 0.06954992569663022, 0.0707615129764588]\n",
      "\n",
      "\n",
      "P even:  0.52347\n",
      "P odd:  0.47653\n"
     ]
    }
   ],
   "source": [
    "# Місце для Вашого коду\n",
    "from math import log\n",
    "\n",
    "def probabilities(numbers):\n",
    "    arr_log = list(map(log, numbers))\n",
    "    k = 1 / (sum(arr_log))\n",
    "    return list(map(lambda x: x * k, arr_log))\n",
    "\n",
    "def empirical(n):\n",
    "    k = 1\n",
    "    numbers = list(range(1,2*n+1))\n",
    "    prob = probabilities(numbers)\n",
    "    \n",
    "    even = 0\n",
    "    odd = 0\n",
    "    for _ in range(100000):\n",
    "        number = np.random.choice(numbers, p=prob)\n",
    "        if number % 2 == 0:\n",
    "            even += 1\n",
    "        else:\n",
    "            odd += 1\n",
    "    print('Probabilities: ', prob)\n",
    "    print('\\n')\n",
    "    print('P even: ', even/100000)\n",
    "    print('P odd: ', odd/100000)\n",
    "    \n",
    "empirical(10)\n"
   ]
  },
  {
   "cell_type": "code",
   "execution_count": 102,
   "metadata": {},
   "outputs": [
    {
     "name": "stdout",
     "output_type": "stream",
     "text": [
      "Probabilities:  [0.0, 0.004668356716228672, 0.007399170335212202, 0.009336713432457344, 0.010839588616367463, 0.012067527051440872, 0.013105734205225235, 0.014005070148686015, 0.014798340670424404, 0.015507945332596137, 0.016149860831199254, 0.016735883767669546, 0.0172749726111833, 0.017774090921453906, 0.018238758951579663, 0.01867342686491469, 0.01908173460728615, 0.019466697386653072, 0.019830840937436922, 0.020176302048824805, 0.02050490454043744, 0.020818217547427926, 0.021117600838835265, 0.021404240483898218, 0.021679177232734926, 0.021943329327411974, 0.022197511005636602, 0.02244244763768258, 0.02267878820591505, 0.02290711566780834, 0.023127955619109877, 0.02334178358114336, 0.023549031166411452, 0.023750091323514827, 0.023945322821592698, 0.024135054102881744, 0.024319586607313967, 0.024499197653665598, 0.024674142946395503, 0.02484465876505348, 0.025010963883303216, 0.02517326125666611, 0.025331739511648466, 0.025486574263656595, 0.025637929286791865, 0.025785957555063937, 0.025930802171618205, 0.02607259720012689, 0.02621146841045047, 0.026347533948963598]\n",
      "\n",
      "\n",
      "P even:  0.5071\n",
      "P odd:  0.4929\n"
     ]
    }
   ],
   "source": [
    "empirical(25)"
   ]
  },
  {
   "cell_type": "code",
   "execution_count": null,
   "metadata": {},
   "outputs": [],
   "source": []
  }
 ],
 "metadata": {
  "kernelspec": {
   "display_name": "Python 3",
   "language": "python",
   "name": "python3"
  },
  "language_info": {
   "codemirror_mode": {
    "name": "ipython",
    "version": 3
   },
   "file_extension": ".py",
   "mimetype": "text/x-python",
   "name": "python",
   "nbconvert_exporter": "python",
   "pygments_lexer": "ipython3",
   "version": "3.6.5"
  }
 },
 "nbformat": 4,
 "nbformat_minor": 2
}

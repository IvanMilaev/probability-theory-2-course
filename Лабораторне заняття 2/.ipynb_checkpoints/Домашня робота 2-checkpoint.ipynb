{
 "cells": [
  {
   "cell_type": "markdown",
   "metadata": {},
   "source": [
    "# Домашня робота №2"
   ]
  },
  {
   "cell_type": "markdown",
   "metadata": {},
   "source": [
    "## 1 Пароль\n",
    "Напишіть програму (функцію) для генерування випадкового пароля з такими обмеженнями:\n",
    "- пароль складається з рівно $10$ символів\n",
    "- пароль містить хоча б одну маленьку латинську літеру [a-z]\n",
    "- пароль містить хоча б одну велику латинську літеру [A-Z]\n",
    "- пароль містить хоча б одну цифру [0-9]\n",
    "- пароль містить хоча б один спеціальний символ [~!@#$%^&*()-_+=\\/{}[].,?<>:;]"
   ]
  },
  {
   "cell_type": "code",
   "execution_count": 11,
   "metadata": {},
   "outputs": [],
   "source": [
    "import numpy as np"
   ]
  },
  {
   "cell_type": "code",
   "execution_count": 57,
   "metadata": {
    "collapsed": true
   },
   "outputs": [],
   "source": [
    "# Місце для Вашого коду\n",
    "import string\n",
    "AZ = string.ascii_uppercase\n",
    "az = string.ascii_lowercase\n",
    "spec = '~!@#$%^&*()-_+=\\/{}[].,?<>:;'\n",
    "# Ми маємо 10 символів, але тому, що потрібно кожного 3 4 видів хоча б по 1\n",
    "# то маємо можлівість вибирати 3 1 до 7 символів для 1 -го виду,\n",
    "# далі 3 1 до 7 - мінус кількість попередніх символів і так далі\n",
    "def generatePassword(n):\n",
    "    # генеруємо кількість маленьких латинських літер [a-z]\n",
    "    az_count = np.random.randint(1, n-3)\n",
    "    #  літер [A-Z]\n",
    "    AZ_count = np.random.randint(1, n-2-az_count)\n",
    "    #  цифр [0-9]\n",
    "    _09_count = np.random.randint(1, n-1-az_count-AZ_count)\n",
    "    #  спеціальних символів [~!@#$%^&*()-_+=\\/{}[].,?<>:;]\n",
    "    spec_count = n-az_count-AZ_count-_09_count\n",
    "    \n",
    "    \n",
    "    az_array = [az[i] for i in np.random.randint(0, len(az), size=az_count)]\n",
    "    AZ_array = [AZ[i] for i in np.random.randint(0, len(AZ), size=AZ_count)]\n",
    "    _09_array = [str(i) for i in np.random.randint(0, 9, size= _09_count)]\n",
    "    spec_array = [spec[i] for i in np.random.randint(0, len(spec), size=spec_count)]\n",
    "    password = sum([az_array, AZ_array, _09_array, spec_array],[])\n",
    "    np.random.shuffle(password)\n",
    "    return \"\".join(password)\n",
    "    \n",
    "\n"
   ]
  },
  {
   "cell_type": "code",
   "execution_count": 59,
   "metadata": {},
   "outputs": [
    {
     "name": "stdout",
     "output_type": "stream",
     "text": [
      "3{?tykheyR\n"
     ]
    }
   ],
   "source": [
    "print(generatePassword(10))"
   ]
  },
  {
   "cell_type": "markdown",
   "metadata": {},
   "source": [
    "## 2 Герби в ряд\n",
    "Реалізуйте функцію для обчислення емпіричної та теоретичної імовірностей випадіння $k$ гербів (HEADS) підряд у серії з $n$ підкидань чесної монетки. Підрахуйте відповідні ймовірності для таких параметрів:\n",
    "- $k = 2, n = 10, 50, 100, 500, 1000, 5000, 10000$\n",
    "- $k = 3, n = 10, 50, 100, 500, 1000, 5000, 10000$\n",
    "\n",
    "**Зауваження.** Нехай $k = 2, n = 10$ та маємо таку послідовність результатів підкидання монети: $\\{ H, T, H, H, H, H, T, T, H, T \\}$. Тоді матимемо $3$ випадки випадіння двох гербів підряд та емпіричну ймовірність такої події $1/3$."
   ]
  },
  {
   "cell_type": "code",
   "execution_count": 117,
   "metadata": {
    "collapsed": true
   },
   "outputs": [],
   "source": [
    "from itertools import product\n",
    "\n",
    "# Місце для Вашого коду\n",
    "# елементарних подій тут завжди n-1 (скільки разів ми порівнюємо попереднє та останнє підкидання)\n",
    "# теорітична імовірність:\n",
    "# можливі випадки: TT, TH, HT, HH,  - всі рівноможливі, тому теорітична імовірність - 1/4\n",
    "\n",
    "w = [\"H\",\"T\"]\n",
    "\n",
    "def theoreticalProbably(w,k):\n",
    "    print(\"P= {}\".format(1/len([p for p in product(w, repeat=k)])))\n",
    "    \n",
    "   \n",
    "\n",
    "def countRepeat(tosses, symb, count_repeats):\n",
    "    count = 0\n",
    "    repeats = 0\n",
    "    for tos in tosses:\n",
    "        if tos == symb:\n",
    "            repeats+=1\n",
    "            if repeats == count_repeats:\n",
    "                count+=1\n",
    "                repeats-=1\n",
    "        else:\n",
    "            repeats = 0\n",
    "    return count\n",
    "            \n",
    "    \n",
    "def empericProbably(w,n,k):\n",
    "    rand = np.random.randint(len(w), size=n)\n",
    "    tosses = [w[i] for i in rand]\n",
    "    count = countRepeat(tosses, w[0],k)\n",
    "    print(\"P (n={}) = {}\".format(n,count/(n-1)))\n",
    "    \n",
    "\n",
    "n =[10, 50, 100, 500, 1000, 5000, 10000]\n",
    "\n"
   ]
  },
  {
   "cell_type": "code",
   "execution_count": 118,
   "metadata": {},
   "outputs": [
    {
     "name": "stdout",
     "output_type": "stream",
     "text": [
      "Теорітична імовірність при к = 2:\n",
      "P= 0.25\n",
      "Емпірична імовірність при к = 2:\n",
      "P (n=10) = 0.1111111111111111\n",
      "P (n=50) = 0.30612244897959184\n",
      "P (n=100) = 0.30303030303030304\n",
      "P (n=500) = 0.24448897795591182\n",
      "P (n=1000) = 0.2602602602602603\n",
      "P (n=5000) = 0.2458491698339668\n",
      "P (n=10000) = 0.24942494249424943\n"
     ]
    }
   ],
   "source": [
    "k=2\n",
    "print('Теорітична імовірність при к = 2:')\n",
    "theoreticalProbably(w,k)\n",
    "print('Емпірична імовірність при к = 2:')\n",
    "\n",
    "for i in n:\n",
    "    empericProbably(w,i,k)"
   ]
  },
  {
   "cell_type": "code",
   "execution_count": null,
   "metadata": {},
   "outputs": [],
   "source": []
  },
  {
   "cell_type": "code",
   "execution_count": 119,
   "metadata": {},
   "outputs": [
    {
     "name": "stdout",
     "output_type": "stream",
     "text": [
      "Теорітична імовірність при к = 3:\n",
      "P= 0.125\n",
      "Емпірична імовірність при к = 3:\n",
      "P (n=10) = 0.0\n",
      "P (n=50) = 0.0\n",
      "P (n=100) = 0.13131313131313133\n",
      "P (n=500) = 0.12224448897795591\n",
      "P (n=1000) = 0.13313313313313313\n",
      "P (n=5000) = 0.11142228445689138\n",
      "P (n=10000) = 0.12821282128212821\n"
     ]
    }
   ],
   "source": [
    "k=3\n",
    "print('Теорітична імовірність при к = 3:')\n",
    "theoreticalProbably(w,k)\n",
    "print('Емпірична імовірність при к = 3:')\n",
    "\n",
    "for i in n:\n",
    "    empericProbably(w,i,k)"
   ]
  },
  {
   "cell_type": "markdown",
   "metadata": {},
   "source": [
    "## 3 Найбільше число\n",
    "Реалізуйте функцію підрахунку точної (теоретичної) імовірності того, що максимальне число після $n$ кидків звичайного грального кубика дорівнює $x\\_max$, для таких параметрів:\n",
    "- $n = 3, x\\_max = 6$\n",
    "- $n = 2, x\\_max = 3$\n",
    "- $n = 3, x\\_max = 5$\n",
    "\n",
    "Тобто, якщо $X_i, i = 1, \\ldots, n$, - число на $i$-му кидку кубика, а $X = \\max\\limits_{1 \\leq i \\leq n} X_i$, то потрібно знайти ймовірність $\\textbf{P} \\left( X = x\\_max \\right)$.\n",
    "\n",
    "Підрахуйте також емпіричні ймовірності відповідних подій у випадку $10000$ симуляцій.\n",
    "\n",
    "**Зауваження.** Якщо введені параметри не мають сенсу, то повертати $0$.\n",
    "Тобто, якщо вводиться $x\\_max < 1$ або $x\\_max > 6$."
   ]
  },
  {
   "cell_type": "code",
   "execution_count": 140,
   "metadata": {},
   "outputs": [],
   "source": [
    "from collections import Counter"
   ]
  },
  {
   "cell_type": "code",
   "execution_count": 161,
   "metadata": {
    "collapsed": true
   },
   "outputs": [],
   "source": [
    "# Місце для Вашого коду\n",
    "w = [1,2,3,4,5,6]\n",
    "def elementaryEvents(w,n):\n",
    "    return [p for p in product(w, repeat=n)]\n",
    "\n",
    "def theorProbably(w, n, x_max):\n",
    "    if x_max < 1 or x_max > 6:\n",
    "        print('0')\n",
    "    all_events = elementaryEvents(w,n)\n",
    "    target_events = [p for p in all_events if x_max == max(p)]\n",
    "    print(\"P (n={}, x_max={}) = {}\".format(n,x_max,len(target_events)/len(all_events)))\n",
    "\n",
    "def empericProbably(n, x_max, count_sim):\n",
    "    if x_max < 1 or x_max > 6:\n",
    "        print('0')\n",
    "    simulations = []\n",
    "    for i in range(count_sim):  \n",
    "        simulations.append(tuple(np.random.randint(low=1, high=7, size=n)))\n",
    "    target_events = [p for p in simulations if x_max == max(p)]\n",
    "    print(\"P (n={}, x_max={}) = {}\".format(n,x_max,len(target_events)/len(simulations)))\n",
    "    "
   ]
  },
  {
   "cell_type": "code",
   "execution_count": 164,
   "metadata": {},
   "outputs": [
    {
     "name": "stdout",
     "output_type": "stream",
     "text": [
      "Теоретичні імовірності\n",
      "P (n=3, x_max=6) = 0.4212962962962963\n",
      "P (n=2, x_max=3) = 0.1388888888888889\n",
      "P (n=3, x_max=5) = 0.2824074074074074\n"
     ]
    }
   ],
   "source": [
    "print('Теоретичні імовірності')\n",
    "theorProbably(w, 3, 6)\n",
    "theorProbably(w, 2, 3)\n",
    "theorProbably(w, 3, 5)"
   ]
  },
  {
   "cell_type": "code",
   "execution_count": 165,
   "metadata": {},
   "outputs": [
    {
     "name": "stdout",
     "output_type": "stream",
     "text": [
      "Емпіричні імовірності\n",
      "P (n=3, x_max=6) = 0.4265\n",
      "P (n=2, x_max=3) = 0.135\n",
      "P (n=3, x_max=5) = 0.2817\n"
     ]
    }
   ],
   "source": [
    "print('Емпіричні імовірності')\n",
    "empericProbably(3, 6, 10000)\n",
    "empericProbably(2, 3, 10000)\n",
    "empericProbably(3, 5, 10000)"
   ]
  },
  {
   "cell_type": "markdown",
   "metadata": {},
   "source": [
    "## 4 Сума чисел\n",
    "Реалізуйте функцію підрахунку точної (теоретичної) імовірності того, що сума чисел після $n$ кидків звичайного грального кубика дорівнює $s$, для таких параметрів:\n",
    "- $n = 3, s = 13$\n",
    "- $n = 2, s = 5$\n",
    "- $n = 3, s = 7$\n",
    "\n",
    "Тобто, якщо $X_i, i = 1, \\ldots, n$, - число на $i$-му кидку кубика, а $X = \\sum\\limits_{i = 1}^{n} X_i$, то потрібно знайти ймовірність $\\textbf{P} \\left( X = s \\right)$.\n",
    "\n",
    "Підрахуйте також емпіричні ймовірності відповідних подій у випадку $10000$ симуляцій.\n",
    "\n",
    "**Зауваження.** Якщо введені параметри не мають сенсу, то повертати $0$.\n",
    "Наприклад, якщо при $n = 3$ вводиться $s < 3$ або $s > 18$."
   ]
  },
  {
   "cell_type": "code",
   "execution_count": 169,
   "metadata": {
    "collapsed": true
   },
   "outputs": [],
   "source": [
    "# Місце для Вашого коду\n",
    "w = [1,2,3,4,5,6]\n",
    "def elementaryEvents(w,n):\n",
    "    return [p for p in product(w, repeat=n)]\n",
    "\n",
    "def theorProbably(w, n, s):\n",
    "    if s < n*1 or s > s*6:\n",
    "        print('0')\n",
    "    all_events = elementaryEvents(w,n)\n",
    "    target_events = [p for p in all_events if s == sum(p)]\n",
    "    print(\"P (n={}, s={}) = {}\".format(n, s,len(target_events)/len(all_events)))\n"
   ]
  },
  {
   "cell_type": "code",
   "execution_count": 176,
   "metadata": {},
   "outputs": [],
   "source": [
    "def empericProbably(n, s, count_sim):\n",
    "    if s < n*1 or s > s*6:\n",
    "        print('0')\n",
    "    simulations = []\n",
    "    for i in range(count_sim):  \n",
    "        simulations.append(tuple(np.random.randint(low=1, high=7, size=n)))\n",
    "    target_events = [p for p in simulations if s == sum(p)]\n",
    "    print(\"P (n={}, s={}) = {}\".format(n,s,len(target_events)/len(simulations)))"
   ]
  },
  {
   "cell_type": "code",
   "execution_count": 177,
   "metadata": {},
   "outputs": [
    {
     "name": "stdout",
     "output_type": "stream",
     "text": [
      "Теоретичні імовірності\n",
      "P (n=3, s=13) = 0.09722222222222222\n",
      "P (n=2, s=5) = 0.1111111111111111\n",
      "P (n=3, s=7) = 0.06944444444444445\n"
     ]
    }
   ],
   "source": [
    "print('Теоретичні імовірності')\n",
    "theorProbably(w,3,13)\n",
    "theorProbably(w,2,5)\n",
    "theorProbably(w,3,7)"
   ]
  },
  {
   "cell_type": "code",
   "execution_count": 178,
   "metadata": {},
   "outputs": [
    {
     "name": "stdout",
     "output_type": "stream",
     "text": [
      "Емпіричні імовірності\n",
      "P (n=3, s=13) = 0.1001\n",
      "P (n=2, s=5) = 0.1108\n",
      "P (n=3, s=7) = 0.0723\n"
     ]
    }
   ],
   "source": [
    "print('Емпіричні імовірності')\n",
    "empericProbably(3, 13, 10000)\n",
    "empericProbably(2, 5, 10000)\n",
    "empericProbably(3, 7, 10000)"
   ]
  },
  {
   "cell_type": "code",
   "execution_count": null,
   "metadata": {},
   "outputs": [],
   "source": []
  }
 ],
 "metadata": {
  "kernelspec": {
   "display_name": "Python 3",
   "language": "python",
   "name": "python3"
  },
  "language_info": {
   "codemirror_mode": {
    "name": "ipython",
    "version": 3
   },
   "file_extension": ".py",
   "mimetype": "text/x-python",
   "name": "python",
   "nbconvert_exporter": "python",
   "pygments_lexer": "ipython3",
   "version": "3.6.5"
  }
 },
 "nbformat": 4,
 "nbformat_minor": 2
}

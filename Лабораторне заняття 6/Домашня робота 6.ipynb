{
 "cells": [
  {
   "cell_type": "markdown",
   "metadata": {},
   "source": [
    "# Домашня робота №6"
   ]
  },
  {
   "cell_type": "markdown",
   "metadata": {},
   "source": [
    "# Математичне сподівання та дисперсія"
   ]
  },
  {
   "cell_type": "markdown",
   "metadata": {},
   "source": [
    "## 1 Порівняння"
   ]
  },
  {
   "cell_type": "markdown",
   "metadata": {},
   "source": [
    "1. Реалізуйте функцію для підрахунку математичного сподівання випадкової величини $\\xi$, заданої в класі **scipy.stats**, усіма можливими способами:\n",
    "   - за допомогою методу **mean**;\n",
    "   - за допомогою методу **expect**;\n",
    "   - за допомогою методу **stats**.\n",
    "\n",
    "2. Реалізуйте функцію для підрахунку дисперсії випадкової величини $\\xi$, заданої в класі **scipy.stats**, усіма можливими способами:\n",
    "   - за допомогою методу **var**;\n",
    "   - за допомогою методу **expect** та формули для дисперсії \n",
    "$\\mathsf{D}(\\xi) = \\mathsf{E} \\left[ \\left( \\xi - \\mathsf{E}[\\xi] \\right)^2 \\right]$;\n",
    "   - за допомогою методу **expect** та формули для дисперсії\n",
    "$\\mathsf{D}(\\xi) = \\mathsf{E}[\\xi^2] - \\left( \\mathsf{E}[\\xi] \\right)^2$;\n",
    "   - за допомогою методу **stats**.\n",
    "\n",
    "3. Порахуйте математичне сподівання та дисперсію, використовуючи функції з пунктів **1., 2.**, і порівняйте (виведіть різницю) їх із теоретичними значеннями, використовуючи формули з лекцій, для таких випадкових величин:\n",
    "   - $\\xi \\sim Binom(10, 0.4)$ (біноміальний розподіл);\n",
    "   - $\\xi \\sim Geom(0.5)$ (геометричний розподіл);\n",
    "   - $\\xi \\sim Pois(0.6)$ (розподіл Пуассона);\n",
    "   - $\\xi \\sim NBinom(5, 0.4)$ (від'ємний біноміальний розподіл);\n",
    "   - $\\xi \\sim HGeom(20, 7, 12)$ (гіпергеометричний розподіл);\n",
    "   - $\\xi \\sim Unif(0, 1)$ (рівномірний розподіл);\n",
    "   - $\\xi \\sim Exp(0.5)$ (експоненційний (показниковий) розподіл);\n",
    "   - $\\xi \\sim N(0, 1)$ (нормальний розподіл);\n",
    "   - $\\xi \\sim \\Gamma(2)$ (гамма розподіл);\n",
    "   - $\\xi \\sim LogNorm(0, 1)$ (логнормальний розподіл);\n",
    "   - $\\xi \\sim B(2, 1.1)$ (бета розподіл)."
   ]
  },
  {
   "cell_type": "code",
   "execution_count": 20,
   "metadata": {},
   "outputs": [
    {
     "name": "stdout",
     "output_type": "stream",
     "text": [
      "Binom \n",
      "Expectation: 4.00000000, mean: 4.00000000, stats: 4.00000000\n",
      "\n",
      "\n",
      "Geom \n",
      "Expectation: 2.00000000, mean: 2.00000000, stats: 2.00000000\n",
      "\n",
      "\n",
      "Poisson \n",
      "Expectation: 0.60000000, mean: 0.60000000, stats: 0.60000000\n",
      "\n",
      "\n",
      "NBinom \n",
      "Expectation: 7.50000000, mean: 7.50000000, stats: 7.50000000\n",
      "\n",
      "\n",
      "HGeom \n",
      "Expectation: 4.20000000, mean: 4.20000000, stats: 4.20000000\n",
      "\n",
      "\n",
      "Unif \n",
      "Expectation: 0.50000000, mean: 0.50000000, stats: 0.50000000\n",
      "\n",
      "\n",
      "Exp \n",
      "Expectation: 1.50000000, mean: 1.50000000, stats: 1.50000000\n",
      "\n",
      "\n",
      "N \n",
      "Expectation: 0.00000000, mean: 0.00000000, stats: 0.00000000\n",
      "\n",
      "\n",
      "Γ \n",
      "Expectation: 2.00000000, mean: 2.00000000, stats: 2.00000000\n",
      "\n",
      "\n",
      "LogNorm \n",
      "Expectation: 2.64872127, mean: 2.64872127, stats: 2.64872127\n",
      "\n",
      "\n",
      "B \n",
      "Expectation: 0.64516129, mean: 0.64516129, stats: 0.64516129\n",
      "\n",
      "\n",
      "\n",
      "\n",
      "\n",
      "Variances\n",
      "\n",
      "Binom \n",
      "var: 2.40000000, f1: 2.40000000, f2: 2.40000000, stats: 2.40000000\n",
      "\n",
      "\n",
      "Geom \n",
      "var: 2.00000000, f1: 2.00000000, f2: 2.00000000, stats: 2.00000000\n",
      "\n",
      "\n",
      "Poisson \n",
      "var: 0.60000000, f1: 0.60000000, f2: 0.60000000, stats: 0.60000000\n",
      "\n",
      "\n",
      "NBinom \n",
      "var: 18.75000000, f1: 18.75000000, f2: 18.75000000, stats: 18.75000000\n",
      "\n",
      "\n",
      "HGeom \n",
      "var: 1.14947368, f1: 1.14947368, f2: 1.14947368, stats: 1.14947368\n",
      "\n",
      "\n",
      "Unif \n",
      "var: 0.08333333, f1: 0.08333333, f2: 0.08333333, stats: 0.08333333\n",
      "\n",
      "\n",
      "Exp \n",
      "var: 1.00000000, f1: 1.00000000, f2: 1.00000000, stats: 1.00000000\n",
      "\n",
      "\n",
      "N \n",
      "var: 1.00000000, f1: 1.00000000, f2: 1.00000000, stats: 1.00000000\n",
      "\n",
      "\n",
      "Γ \n",
      "var: 2.00000000, f1: 2.00000000, f2: 2.00000000, stats: 2.00000000\n",
      "\n",
      "\n",
      "LogNorm \n",
      "var: 4.67077427, f1: 4.67077427, f2: 4.67077425, stats: 4.67077427\n",
      "\n",
      "\n",
      "B \n",
      "var: 0.05583615, f1: 0.05583615, f2: 0.05583615, stats: 0.05583615\n",
      "\n",
      "\n"
     ]
    }
   ],
   "source": [
    "from scipy.stats import binom, geom, poisson, nbinom, hypergeom, uniform, expon, norm, gamma, lognorm, beta\n",
    "import numpy as np\n",
    "\n",
    "\n",
    "dist = {\n",
    "    'Binom': binom(10, 0.4),\n",
    "    'Geom': geom(0.5),\n",
    "    'Poisson': poisson(0.6),\n",
    "    'NBinom': nbinom(5, 0.4),\n",
    "    'HGeom': hypergeom(20, 7, 12),\n",
    "    'Unif': uniform(0, 1),\n",
    "    'Exp': expon(0.5),\n",
    "    'N': norm(0, 1),\n",
    "    'Γ': gamma(2),\n",
    "    'LogNorm': lognorm(1, 1),\n",
    "    'B':  beta(2, 1.1)\n",
    "}\n",
    "\n",
    "\n",
    "def expects():\n",
    "    str = \"{} \\nExpectation: {:.8f}, mean: {:.8f}, stats: {:.8f}\\n\\n\"\n",
    "    for name in dist:\n",
    "        print(str.format(name, dist[name].expect(lambda x: x), dist[name].mean(), dist[name].stats(moments='m')))\n",
    "    \n",
    "def variances():\n",
    "    print('\\n\\n\\nVariances\\n')\n",
    "    str = \"{} \\nvar: {:.8f}, f1: {:.8f}, f2: {:.8f}, stats: {:.8f}\\n\\n\"\n",
    "    for name in dist:\n",
    "        exi = dist[name].expect(lambda x: x)\n",
    "        exisq = dist[name].expect(lambda x: x**2)\n",
    "        f1 = dist[name].expect(lambda x: (x - exi)**2)\n",
    "        f2 = exisq - exi**2\n",
    "        print(str.format(name, dist[name].var(), f1, f2, dist[name].stats(moments='v')))\n",
    "    \n",
    "    \n",
    "expects()\n",
    "variances()"
   ]
  },
  {
   "cell_type": "markdown",
   "metadata": {},
   "source": [
    "## 2 Унікальні цифри"
   ]
  },
  {
   "cell_type": "markdown",
   "metadata": {},
   "source": [
    "Нехай випадковим чином вибирають послідовно $n$ цифр (цифри можуть повторюватися, вибірка з поверненням).\n",
    "Нехай тоді випадкова величина $\\xi$ - це кількість унікальних цифр в отриманому наборі.\n",
    "\n",
    "Напишіть функцію для обрахунку математичного сподівання та дисперсії випадкової величини $\\xi$ в залежності від кількості $n$ цифр у наборі методом повного перебору.\n",
    "Виведіть результат для $n = 1, 2, 3, 4, 5, 6, 7.$"
   ]
  },
  {
   "cell_type": "code",
   "execution_count": 22,
   "metadata": {
    "collapsed": true
   },
   "outputs": [
    {
     "name": "stdout",
     "output_type": "stream",
     "text": [
      "n = 1, expectation: 1.0000, variance: 0.0000\n",
      "n = 2, expectation: 1.9000, variance: 0.0900\n",
      "n = 3, expectation: 2.7100, variance: 0.2259\n",
      "n = 4, expectation: 3.4390, variance: 0.3783\n",
      "n = 5, expectation: 4.0951, variance: 0.5283\n",
      "n = 6, expectation: 4.6856, variance: 0.6644\n",
      "n = 7, expectation: 5.2170, variance: 0.7805\n"
     ]
    }
   ],
   "source": [
    "from scipy.stats import rv_discrete\n",
    "from itertools import product\n",
    "\n",
    "\n",
    "\n",
    "def unicNumbers(n):\n",
    "    numbers = np.arange(1, n+1)\n",
    "    p = []\n",
    "    for i in numbers:\n",
    "        count = 0\n",
    "        amount = 0\n",
    "        for el in product(range(10), repeat=n):\n",
    "            amount += 1\n",
    "            if len(set(el)) == i:\n",
    "                count += 1\n",
    "        p.append(count / amount)\n",
    "    return rv_discrete(name='custm', values=(numbers, p))\n",
    "\n",
    "\n",
    "for i in range(1, 8):\n",
    "    rv = unicNumbers(i)\n",
    "    print('n = {}, expectation: {:.4f}, variance: {:.4f}'.format(i,rv.expect(), rv.var()))\n",
    "\n"
   ]
  },
  {
   "cell_type": "markdown",
   "metadata": {},
   "source": [
    "## 3 Максимальне значення"
   ]
  },
  {
   "cell_type": "markdown",
   "metadata": {},
   "source": [
    "Нехай випадкова величина $\\xi$ - це максимальне значення після $n$ кидків грального кубика.\n",
    "\n",
    "Напишіть функцію для обрахунку математичного сподівання та дисперсії випадкової величини $\\xi$ в залежності від кількості $n$ кидків кубика методом повного перебору.\n",
    "Виведіть результат для $n = 1, 2, 3, 4, 5, 6, 7, 8, 9.$\n",
    "\n",
    "Напишіть теоретичну формулу для математичного сподівання та дисперсії випадкової величини $\\xi$.\n",
    "Порівняйте теоретичні значення з обчисленими повним перебором."
   ]
  },
  {
   "cell_type": "code",
   "execution_count": 28,
   "metadata": {
    "collapsed": true
   },
   "outputs": [
    {
     "name": "stdout",
     "output_type": "stream",
     "text": [
      "n = 1 Empirical = (3.5, 2.9166666666666665), Theoretical = (3.5, 2.9166666666666665)\n",
      "\n",
      "n = 2 Empirical = (4.472222222222222, 1.9714506172839505), Theoretical = (4.472222222222222, 1.9714506172839505)\n",
      "\n",
      "n = 3 Empirical = (4.958333333333333, 1.3084490740740742), Theoretical = (4.958333333333333, 1.3084490740740742)\n",
      "\n",
      "n = 4 Empirical = (5.244598765432099, 0.9100788513565005), Theoretical = (5.244598765432099, 0.9100788513565005)\n",
      "\n",
      "n = 5 Empirical = (5.4309413580246915, 0.6593255541742875), Theoretical = (5.4309413580246915, 0.6593255541742875)\n",
      "\n",
      "n = 6 Empirical = (5.560292352537722, 0.4928497430622296), Theoretical = (5.560292352537722, 0.4928497430622296)\n",
      "\n",
      "n = 7 Empirical = (5.6541173696845, 0.377325225479044), Theoretical = (5.6541173696845, 0.377325225479044)\n",
      "\n",
      "n = 8 Empirical = (5.724354257163542, 0.29424630964894327), Theoretical = (5.724354257163542, 0.29424630964894327)\n",
      "\n",
      "n = 9 Empirical = (5.778176976165981, 0.23276028509144198), Theoretical = (5.778176976165981, 0.23276028509144198)\n",
      "\n"
     ]
    }
   ],
   "source": [
    "from scipy.stats import rv_discrete\n",
    "\n",
    "\n",
    "def expectation(pk, xk):\n",
    "    return sum(a * b for a, b in zip(pk, xk))\n",
    "\n",
    "def dispersion(pk, xk):\n",
    "    return expectation(pk, (xk - expectation(pk, xk))**2)\n",
    "\n",
    "def xi(n):\n",
    "    return len(set([randint(0, 10) for _ in range(n)]))\n",
    "\n",
    "def Empiric(n):\n",
    "    xi = np.zeros(7)\n",
    "    xk = range(1, 7) \n",
    "    for i in product(xk, repeat=n):\n",
    "        xi[max(i)] += 1\n",
    "    pk = xi[1:] / 6**n\n",
    "    expect = expectation(pk, xk)\n",
    "    disp = dispersion(pk, xk)\n",
    "    res = expect, disp\n",
    "    return res\n",
    "\n",
    "\n",
    "def Theoretic(n):\n",
    "    xk = range(1, 7)\n",
    "    pk = np.zeros(6)\n",
    "    for s in range(1, 7):\n",
    "        pk[s-1] = s**n - (s - 1)**n\n",
    "    pk = pk / 6**n\n",
    "    expect = expectation(pk, xk)\n",
    "    disp = dispersion(pk, xk)\n",
    "    res = expect, disp\n",
    "    return res\n",
    "\n",
    "\n",
    "for n in range(1, 10):\n",
    "    print(f'n = {n} Empirical = {Empiric(n)}, Theoretical = {Theoretic(n)}\\n')\n",
    "\n"
   ]
  },
  {
   "cell_type": "markdown",
   "metadata": {},
   "source": [
    "## 4 Сума значень"
   ]
  },
  {
   "cell_type": "markdown",
   "metadata": {},
   "source": [
    "Нехай випадкова величина $\\xi$ - це сума значень після $n$ кидків грального кубика (сума цифр, що випали).\n",
    "\n",
    "Напишіть функцію для обрахунку математичного сподівання та дисперсії випадкової величини $\\xi$ в залежності від кількості $n$ кидків кубика методом повного перебору.\n",
    "Виведіть результат для $n = 1, 2, 3, 5, 7, 8.$\n",
    "\n",
    "Напишіть теоретичну формулу для математичного сподівання та дисперсії випадкової величини $\\xi$.\n",
    "Порівняйте теоретичні значення з обчисленими повним перебором."
   ]
  },
  {
   "cell_type": "code",
   "execution_count": 29,
   "metadata": {
    "collapsed": true
   },
   "outputs": [
    {
     "name": "stdout",
     "output_type": "stream",
     "text": [
      "n = 1 Empirical = (3.5, 2.9166666666666665), Theoretical = (3.5, 2.9166666666666665)\n",
      "\n",
      "n = 2 Empirical = (6.999999999999999, 5.833333333333334), Theoretical = (3.5, 2.9166666666666665)\n",
      "\n",
      "n = 3 Empirical = (10.500000000000002, 8.75), Theoretical = (3.5, 2.9166666666666665)\n",
      "\n",
      "n = 4 Empirical = (14.000000000000002, 11.666666666666668), Theoretical = (3.5, 2.9166666666666665)\n",
      "\n",
      "n = 5 Empirical = (17.5, 14.583333333333336), Theoretical = (3.5, 2.9166666666666665)\n",
      "\n",
      "n = 6 Empirical = (20.999999999999996, 17.499999999999996), Theoretical = (3.5, 2.9166666666666665)\n",
      "\n",
      "n = 7 Empirical = (24.5, 20.41666666666666), Theoretical = (3.5, 2.9166666666666665)\n",
      "\n",
      "n = 8 Empirical = (28.000000000000007, 23.33333333333332), Theoretical = (3.5, 2.9166666666666665)\n",
      "\n"
     ]
    }
   ],
   "source": [
    "def Empirical(n):\n",
    "    xk = np.arange(0, 6*n + 1)\n",
    "    pk = np.zeros(6*n + 1)\n",
    "    s = product(range(1, 7), repeat=n)\n",
    "    for k in s:\n",
    "        pk[sum(k)] += 1\n",
    "    pk /= 6**n\n",
    "    \n",
    "    expect = expectation(pk, xk)\n",
    "    disp = dispersion(pk, xk)\n",
    "    res = expect, disp\n",
    "    return res\n",
    "\n",
    "def Theoretical(n):\n",
    "    xk = np.arange(7)[1:]\n",
    "    pk = np.zeros(6) + 1/6\n",
    "    expect = expectation(pk, xk)\n",
    "    disp = dispersion(pk, xk)\n",
    "    res = expect, disp\n",
    "    return res\n",
    "\n",
    "for n in range(1, 9): \n",
    "    print(f'n = {n} Empirical = {Empirical(n)}, Theoretical = {Theoretical(n)}\\n')\n",
    "\n"
   ]
  },
  {
   "cell_type": "markdown",
   "metadata": {},
   "source": [
    "## 5 Парадокс днів народження"
   ]
  },
  {
   "cell_type": "markdown",
   "metadata": {},
   "source": [
    "Нехай маємо $n$ людей.\n",
    "Їх дні народження припадають на один з 12 місяців.\n",
    "Нехай тоді випадкова величина $\\xi$ - це кількість співпадінь місяців народжень серед цих $n$ людей.\n",
    "\n",
    "Напишіть функцію для обрахунку математичного сподівання та дисперсії випадкової величини $\\xi$ в залежності від кількості $n$ людей методом повного перебору.\n",
    "Виведіть результат для $n = 1, 2, 3, 4, 5, 6.$\n",
    "\n",
    "Для якого $n$ виконується $\\mathsf{E}\\left[ \\xi \\right] \\geq 1$?\n",
    "\n",
    "**Зауваження.** Кількість співпадінь означає кількість однакових пар. Наприклад,\n",
    "- у наборі $\\{ 1, 1, 2, 3 \\}$ є одна пара;\n",
    "- у наборі $\\{ 1, 1, 1, 3 \\}$ є три пари;\n",
    "- у наборі $\\{ 1, 1, 1, 1 \\}$ є шість пар."
   ]
  },
  {
   "cell_type": "code",
   "execution_count": 30,
   "metadata": {
    "collapsed": true
   },
   "outputs": [
    {
     "name": "stdout",
     "output_type": "stream",
     "text": [
      "n = 1, results: (0.0, 0.0)\n",
      "n = 2, results: (0.08333333333333333, 0.07638888888888888)\n",
      "n = 3, results: (0.25, 0.22916666666666663)\n",
      "n = 4, results: (0.49999999999999994, 0.4583333333333334)\n",
      "n = 5, results: (0.8333333333333334, 0.763888888888889)\n",
      "n = 6, results: (1.25, 1.145833333333333)\n"
     ]
    }
   ],
   "source": [
    "from collections import Counter, defaultdict\n",
    "\n",
    "factorials = {1: 1, 0: 1}\n",
    "\n",
    "def factorial(n):\n",
    "    if n not in factorials:\n",
    "        factorials[n] = factorial(n-1) * n\n",
    "    return factorials[n]\n",
    "\n",
    "\n",
    "def binomial(n, k):\n",
    "    if k == n:\n",
    "        return 1\n",
    "    elif k > n:\n",
    "        return 0\n",
    "    else:\n",
    "        return int(factorial(n) / (factorial(n - k) * factorial(k)))\n",
    "\n",
    "\n",
    "def permute(n):\n",
    "    counts = defaultdict(int)\n",
    "    amount = 0\n",
    "    for el in product(range(1, 13), repeat=n):\n",
    "        tmp = Counter(el)\n",
    "        res = sum(map(lambda a: binomial(a, 2), tmp.values()))    # number of pairs\n",
    "        counts[res] += 1\n",
    "        amount += 1\n",
    "    expect = 0\n",
    "    var = 0\n",
    "    for i in range(max(counts.keys()) + 1):\n",
    "        expect += i * counts[i] / amount\n",
    "        var += i**2 * counts[i] / amount\n",
    "    return expect, var - expect ** 2\n",
    "\n",
    "\n",
    "for n in range(1, 7):\n",
    "    print(f'n = {n}, results: {permute(n)}')\n"
   ]
  },
  {
   "cell_type": "code",
   "execution_count": null,
   "metadata": {},
   "outputs": [],
   "source": []
  }
 ],
 "metadata": {
  "kernelspec": {
   "display_name": "Python 3",
   "language": "python",
   "name": "python3"
  },
  "language_info": {
   "codemirror_mode": {
    "name": "ipython",
    "version": 3
   },
   "file_extension": ".py",
   "mimetype": "text/x-python",
   "name": "python",
   "nbconvert_exporter": "python",
   "pygments_lexer": "ipython3",
   "version": "3.6.8"
  }
 },
 "nbformat": 4,
 "nbformat_minor": 2
}
